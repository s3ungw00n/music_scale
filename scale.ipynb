{
 "cells": [
  {
   "cell_type": "code",
   "execution_count": 78,
   "id": "b5ab9c93-5614-45ed-862d-f38bd6fa5f44",
   "metadata": {},
   "outputs": [],
   "source": [
    "chromatic = ['C', 'C#', 'D', 'D#', 'E', 'F', 'F#', 'G',' G#', 'A', 'A#', 'B']"
   ]
  },
  {
   "cell_type": "code",
   "execution_count": 79,
   "id": "19201797-fbab-45a3-8657-87560da02fc0",
   "metadata": {},
   "outputs": [
    {
     "data": {
      "text/plain": [
       "12"
      ]
     },
     "execution_count": 79,
     "metadata": {},
     "output_type": "execute_result"
    }
   ],
   "source": [
    "len(chromatic)"
   ]
  },
  {
   "cell_type": "code",
   "execution_count": 80,
   "id": "0a2410fe-b262-42b6-a569-5efecf555b9f",
   "metadata": {},
   "outputs": [
    {
     "data": {
      "text/plain": [
       "['A', 'A#', 'B', 'C', 'C#', 'D', 'D#', 'E', 'F', 'F#', 'G', ' G#']"
      ]
     },
     "execution_count": 80,
     "metadata": {},
     "output_type": "execute_result"
    }
   ],
   "source": [
    "from collections import deque\n",
    "a_chromatic = deque(chromatic)\n",
    "a_chromatic.rotate(-(chromatic.index('A')))\n",
    "list(a_chromatic)"
   ]
  },
  {
   "cell_type": "code",
   "execution_count": 81,
   "id": "1c44ec4c-9705-4ad6-9a64-3066a36d732c",
   "metadata": {},
   "outputs": [
    {
     "data": {
      "text/plain": [
       "['E', 'F', 'F#', 'G', ' G#', 'A', 'A#', 'B', 'C', 'C#', 'D', 'D#']"
      ]
     },
     "execution_count": 81,
     "metadata": {},
     "output_type": "execute_result"
    }
   ],
   "source": [
    "e_chromatic = deque(chromatic)\n",
    "e_chromatic.rotate(-(chromatic.index('E')))\n",
    "list(e_chromatic)"
   ]
  },
  {
   "cell_type": "code",
   "execution_count": 82,
   "id": "b644dad0-cb09-4b62-9f88-38bc48a6e377",
   "metadata": {},
   "outputs": [],
   "source": [
    "def find_root_chromatic(base, root):\n",
    "    target = deque(base)\n",
    "    target.rotate(-base.index(root))\n",
    "    return list(target)"
   ]
  },
  {
   "cell_type": "code",
   "execution_count": 71,
   "id": "02ae7d04-55f5-4ec6-870f-768f14d37879",
   "metadata": {},
   "outputs": [
    {
     "data": {
      "text/plain": [
       "['F', 'G', ' G#', 'A', 'A#', 'B', 'C', 'C#', 'D', 'D#', 'E', 'E#']"
      ]
     },
     "execution_count": 71,
     "metadata": {},
     "output_type": "execute_result"
    }
   ],
   "source": [
    "find_root_chromatic(chromatic, 'F')"
   ]
  },
  {
   "cell_type": "code",
   "execution_count": 84,
   "id": "06c5a4d2-9545-45f5-9486-adef10df2f94",
   "metadata": {},
   "outputs": [
    {
     "data": {
      "text/plain": [
       "['C', 'D', 'E', 'F', 'G', 'A', 'B']"
      ]
     },
     "execution_count": 84,
     "metadata": {},
     "output_type": "execute_result"
    }
   ],
   "source": [
    "major_scale = [0, 2, 4, 5, 7, 9, 11]\n",
    "c_major_scale = [note for note in chromatic if chromatic.index(note) in major_scale]\n",
    "c_major_scale"
   ]
  },
  {
   "cell_type": "code",
   "execution_count": 88,
   "id": "a8bdfaf2-62c7-461d-8fc1-6c32e1668742",
   "metadata": {},
   "outputs": [
    {
     "data": {
      "text/plain": [
       "['C', 'D', 'D#', 'F', 'G', ' G#', 'A#']"
      ]
     },
     "execution_count": 88,
     "metadata": {},
     "output_type": "execute_result"
    }
   ],
   "source": [
    "minor_scale = [0, 2, 3, 5, 7, 8, 10]\n",
    "c_minor_scale = [note for note in chromatic if chromatic.index(note) in minor_scale]\n",
    "c_minor_scale"
   ]
  },
  {
   "cell_type": "code",
   "execution_count": 68,
   "id": "16bc24db-c00c-435f-a64c-ce60a9af92ea",
   "metadata": {},
   "outputs": [],
   "source": [
    "def extract_scale(whole_scale, target_scale_pattern):\n",
    "    return [note for note in whole_scale if whole_scale.index(note) in target_scale_pattern]"
   ]
  },
  {
   "cell_type": "code",
   "execution_count": 89,
   "id": "123130e8-bddf-46ad-ab43-09006d719dad",
   "metadata": {},
   "outputs": [
    {
     "data": {
      "text/plain": [
       "['C', 'D', 'D#', 'F', 'G', ' G#', 'A#']"
      ]
     },
     "execution_count": 89,
     "metadata": {},
     "output_type": "execute_result"
    }
   ],
   "source": [
    "c_minor_scale = extract_scale(chromatic, minor_scale)\n",
    "c_minor_scale"
   ]
  },
  {
   "cell_type": "code",
   "execution_count": 90,
   "id": "f512d835-a588-4f75-ae2c-963c68f4a599",
   "metadata": {},
   "outputs": [
    {
     "data": {
      "text/plain": [
       "['E', 'F#', 'G', 'A', 'B', 'C', 'D']"
      ]
     },
     "execution_count": 90,
     "metadata": {},
     "output_type": "execute_result"
    }
   ],
   "source": [
    "extract_scale(find_root_chromatic(chromatic, 'E'), minor_scale)"
   ]
  },
  {
   "cell_type": "code",
   "execution_count": null,
   "id": "55f656aa-4ab8-44e9-9ece-456adf82fdd3",
   "metadata": {},
   "outputs": [],
   "source": []
  },
  {
   "cell_type": "code",
   "execution_count": null,
   "id": "f80ef3d5-9cd5-4121-8e47-8f3a0b596da0",
   "metadata": {},
   "outputs": [],
   "source": []
  }
 ],
 "metadata": {
  "kernelspec": {
   "display_name": "Python 3 (ipykernel)",
   "language": "python",
   "name": "python3"
  },
  "language_info": {
   "codemirror_mode": {
    "name": "ipython",
    "version": 3
   },
   "file_extension": ".py",
   "mimetype": "text/x-python",
   "name": "python",
   "nbconvert_exporter": "python",
   "pygments_lexer": "ipython3",
   "version": "3.11.5"
  }
 },
 "nbformat": 4,
 "nbformat_minor": 5
}
